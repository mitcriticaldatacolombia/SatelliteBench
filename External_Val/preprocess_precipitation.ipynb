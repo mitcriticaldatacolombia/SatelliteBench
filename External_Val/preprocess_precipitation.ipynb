{
  "cells": [
    {
      "cell_type": "code",
      "execution_count": 1,
      "id": "23566b92",
      "metadata": {
        "id": "23566b92"
      },
      "outputs": [],
      "source": [
        "import pandas as pd\n",
        "from datetime import timedelta\n",
        "from epiweeks import Week, Year"
      ]
    },
    {
      "cell_type": "code",
      "execution_count": 2,
      "id": "zYsgomY4xaSK",
      "metadata": {
        "id": "zYsgomY4xaSK"
      },
      "outputs": [],
      "source": [
        "# David's path\n",
        "path = 'data/Precipitation/'"
      ]
    },
    {
      "cell_type": "code",
      "execution_count": 3,
      "id": "77c87f7e",
      "metadata": {},
      "outputs": [],
      "source": [
        "def get_epiweek(date):\n",
        "    week = Week.fromdate(date)\n",
        "    return week"
      ]
    },
    {
      "cell_type": "markdown",
      "id": "631d0fb5",
      "metadata": {
        "id": "631d0fb5"
      },
      "source": [
        "### Read CSV"
      ]
    },
    {
      "cell_type": "code",
      "execution_count": 4,
      "id": "b5ef16b5",
      "metadata": {
        "colab": {
          "base_uri": "https://localhost:8080/",
          "height": 419
        },
        "id": "b5ef16b5",
        "outputId": "3a2067e0-232a-4529-fd92-a568a355d655"
      },
      "outputs": [
        {
          "data": {
            "text/html": [
              "<div>\n",
              "<style scoped>\n",
              "    .dataframe tbody tr th:only-of-type {\n",
              "        vertical-align: middle;\n",
              "    }\n",
              "\n",
              "    .dataframe tbody tr th {\n",
              "        vertical-align: top;\n",
              "    }\n",
              "\n",
              "    .dataframe thead th {\n",
              "        text-align: right;\n",
              "    }\n",
              "</style>\n",
              "<table border=\"1\" class=\"dataframe\">\n",
              "  <thead>\n",
              "    <tr style=\"text-align: right;\">\n",
              "      <th></th>\n",
              "      <th>Date</th>\n",
              "      <th>precipitation</th>\n",
              "    </tr>\n",
              "  </thead>\n",
              "  <tbody>\n",
              "    <tr>\n",
              "      <th>0</th>\n",
              "      <td>2015-01-01</td>\n",
              "      <td>0.000</td>\n",
              "    </tr>\n",
              "    <tr>\n",
              "      <th>1</th>\n",
              "      <td>2015-01-02</td>\n",
              "      <td>7.326</td>\n",
              "    </tr>\n",
              "    <tr>\n",
              "      <th>2</th>\n",
              "      <td>2015-01-03</td>\n",
              "      <td>0.000</td>\n",
              "    </tr>\n",
              "    <tr>\n",
              "      <th>3</th>\n",
              "      <td>2015-01-04</td>\n",
              "      <td>10.070</td>\n",
              "    </tr>\n",
              "    <tr>\n",
              "      <th>4</th>\n",
              "      <td>2015-01-05</td>\n",
              "      <td>25.101</td>\n",
              "    </tr>\n",
              "    <tr>\n",
              "      <th>...</th>\n",
              "      <td>...</td>\n",
              "      <td>...</td>\n",
              "    </tr>\n",
              "    <tr>\n",
              "      <th>3282</th>\n",
              "      <td>2023-12-27</td>\n",
              "      <td>0.000</td>\n",
              "    </tr>\n",
              "    <tr>\n",
              "      <th>3283</th>\n",
              "      <td>2023-12-28</td>\n",
              "      <td>0.000</td>\n",
              "    </tr>\n",
              "    <tr>\n",
              "      <th>3284</th>\n",
              "      <td>2023-12-29</td>\n",
              "      <td>0.000</td>\n",
              "    </tr>\n",
              "    <tr>\n",
              "      <th>3285</th>\n",
              "      <td>2023-12-30</td>\n",
              "      <td>0.000</td>\n",
              "    </tr>\n",
              "    <tr>\n",
              "      <th>3286</th>\n",
              "      <td>2023-12-31</td>\n",
              "      <td>0.000</td>\n",
              "    </tr>\n",
              "  </tbody>\n",
              "</table>\n",
              "<p>3287 rows × 2 columns</p>\n",
              "</div>"
            ],
            "text/plain": [
              "           Date  precipitation\n",
              "0    2015-01-01          0.000\n",
              "1    2015-01-02          7.326\n",
              "2    2015-01-03          0.000\n",
              "3    2015-01-04         10.070\n",
              "4    2015-01-05         25.101\n",
              "...         ...            ...\n",
              "3282 2023-12-27          0.000\n",
              "3283 2023-12-28          0.000\n",
              "3284 2023-12-29          0.000\n",
              "3285 2023-12-30          0.000\n",
              "3286 2023-12-31          0.000\n",
              "\n",
              "[3287 rows x 2 columns]"
            ]
          },
          "execution_count": 4,
          "metadata": {},
          "output_type": "execute_result"
        }
      ],
      "source": [
        "weekly_precipitation = pd.read_csv(path + 'precipitation_rio_daily.csv')\n",
        "weekly_precipitation.rename(columns={'system:time_start' : 'Date'}, inplace=True)\n",
        "weekly_precipitation['Date'] = pd.to_datetime(weekly_precipitation['Date'])\n",
        "weekly_precipitation"
      ]
    },
    {
      "cell_type": "markdown",
      "id": "4f29c40d",
      "metadata": {},
      "source": [
        "### Calculate precipitation per epi-week"
      ]
    },
    {
      "cell_type": "code",
      "execution_count": 5,
      "id": "7d4641ab",
      "metadata": {},
      "outputs": [
        {
          "data": {
            "text/html": [
              "<div>\n",
              "<style scoped>\n",
              "    .dataframe tbody tr th:only-of-type {\n",
              "        vertical-align: middle;\n",
              "    }\n",
              "\n",
              "    .dataframe tbody tr th {\n",
              "        vertical-align: top;\n",
              "    }\n",
              "\n",
              "    .dataframe thead th {\n",
              "        text-align: right;\n",
              "    }\n",
              "</style>\n",
              "<table border=\"1\" class=\"dataframe\">\n",
              "  <thead>\n",
              "    <tr style=\"text-align: right;\">\n",
              "      <th></th>\n",
              "      <th>Epiweek</th>\n",
              "      <th>precipitation</th>\n",
              "    </tr>\n",
              "  </thead>\n",
              "  <tbody>\n",
              "    <tr>\n",
              "      <th>0</th>\n",
              "      <td>201453</td>\n",
              "      <td>7.326</td>\n",
              "    </tr>\n",
              "    <tr>\n",
              "      <th>1</th>\n",
              "      <td>201501</td>\n",
              "      <td>46.448</td>\n",
              "    </tr>\n",
              "    <tr>\n",
              "      <th>2</th>\n",
              "      <td>201502</td>\n",
              "      <td>0.013</td>\n",
              "    </tr>\n",
              "    <tr>\n",
              "      <th>3</th>\n",
              "      <td>201503</td>\n",
              "      <td>43.581</td>\n",
              "    </tr>\n",
              "    <tr>\n",
              "      <th>4</th>\n",
              "      <td>201504</td>\n",
              "      <td>99.522</td>\n",
              "    </tr>\n",
              "    <tr>\n",
              "      <th>...</th>\n",
              "      <td>...</td>\n",
              "      <td>...</td>\n",
              "    </tr>\n",
              "    <tr>\n",
              "      <th>466</th>\n",
              "      <td>202349</td>\n",
              "      <td>33.037</td>\n",
              "    </tr>\n",
              "    <tr>\n",
              "      <th>467</th>\n",
              "      <td>202350</td>\n",
              "      <td>0.323</td>\n",
              "    </tr>\n",
              "    <tr>\n",
              "      <th>468</th>\n",
              "      <td>202351</td>\n",
              "      <td>13.727</td>\n",
              "    </tr>\n",
              "    <tr>\n",
              "      <th>469</th>\n",
              "      <td>202352</td>\n",
              "      <td>6.937</td>\n",
              "    </tr>\n",
              "    <tr>\n",
              "      <th>470</th>\n",
              "      <td>202401</td>\n",
              "      <td>0.000</td>\n",
              "    </tr>\n",
              "  </tbody>\n",
              "</table>\n",
              "<p>471 rows × 2 columns</p>\n",
              "</div>"
            ],
            "text/plain": [
              "    Epiweek  precipitation\n",
              "0    201453          7.326\n",
              "1    201501         46.448\n",
              "2    201502          0.013\n",
              "3    201503         43.581\n",
              "4    201504         99.522\n",
              "..      ...            ...\n",
              "466  202349         33.037\n",
              "467  202350          0.323\n",
              "468  202351         13.727\n",
              "469  202352          6.937\n",
              "470  202401          0.000\n",
              "\n",
              "[471 rows x 2 columns]"
            ]
          },
          "execution_count": 5,
          "metadata": {},
          "output_type": "execute_result"
        }
      ],
      "source": [
        "# Apply function to get epiweek for each date\n",
        "weekly_precipitation['Epiweek'] = weekly_precipitation['Date'].apply(get_epiweek)\n",
        "\n",
        "# Group by epiweek and calculate mean temperature\n",
        "mean_prec_per_epiweek = weekly_precipitation.groupby('Epiweek')['precipitation'].sum().reset_index()\n",
        "mean_prec_per_epiweek.sort_values(by='Epiweek', inplace=True)\n",
        "mean_prec_per_epiweek"
      ]
    },
    {
      "cell_type": "code",
      "execution_count": 7,
      "id": "cc6308eb",
      "metadata": {
        "id": "cc6308eb"
      },
      "outputs": [],
      "source": [
        "# Dataframe to CSV\n",
        "mean_prec_per_epiweek.to_csv(path+'precipitation_rio.csv', index=False)"
      ]
    },
    {
      "cell_type": "code",
      "execution_count": null,
      "id": "abc83496",
      "metadata": {},
      "outputs": [],
      "source": []
    }
  ],
  "metadata": {
    "colab": {
      "provenance": []
    },
    "kernelspec": {
      "display_name": "Python 3",
      "language": "python",
      "name": "python3"
    },
    "language_info": {
      "codemirror_mode": {
        "name": "ipython",
        "version": 3
      },
      "file_extension": ".py",
      "mimetype": "text/x-python",
      "name": "python",
      "nbconvert_exporter": "python",
      "pygments_lexer": "ipython3",
      "version": "3.9.18"
    }
  },
  "nbformat": 4,
  "nbformat_minor": 5
}
