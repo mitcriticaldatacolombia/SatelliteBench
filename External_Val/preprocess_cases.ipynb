{
 "cells": [
  {
   "cell_type": "code",
   "execution_count": 1,
   "metadata": {},
   "outputs": [],
   "source": [
    "import pandas as pd\n",
    "import os"
   ]
  },
  {
   "cell_type": "code",
   "execution_count": 9,
   "metadata": {},
   "outputs": [
    {
     "name": "stdout",
     "output_type": "stream",
     "text": [
      "2017\n",
      "                               330455 Rio de Janeiro  epiweek  year\n",
      "Semana epidem. 1º Sintomas(s)                                      \n",
      "Semana 50                                         49       50  2017\n",
      "Semana 51                                         48       51  2017\n",
      "Semana 52                                         63       52  2017\n",
      "\n",
      "2016\n",
      "                              330455 Rio de Janeiro  epiweek  year\n",
      "Semana epidem. 1º Sintomas(s)                                     \n",
      "Semana 50                                       118       50  2016\n",
      "Semana 51                                       150       51  2016\n",
      "Semana 52                                       258       52  2016\n",
      "\n",
      "2015\n",
      "                              330455 Rio de Janeiro  epiweek  year\n",
      "Semana epidem. 1º Sintomas(s)                                     \n",
      "Semana 51                                       251       51  2015\n",
      "Semana 52                                       148       52  2015\n",
      "Semana 53                                        15       53  2015\n",
      "\n",
      "2022\n",
      "                              330455 Rio de Janeiro  epiweek  year\n",
      "Semana epidem. 1º Sintomas(s)                                     \n",
      "Semana 50                                        44       50  2022\n",
      "Semana 51                                        33       51  2022\n",
      "Semana 52                                        28       52  2022\n",
      "\n",
      "2023\n",
      "                              330455 Rio de Janeiro  epiweek  year\n",
      "Semana epidem. 1º Sintomas(s)                                     \n",
      "Semana 51                                       721       51  2023\n",
      "Semana 52                                       562       52  2023\n",
      "Semana 53                                         1       53  2023\n",
      "\n",
      "2021\n",
      "                              330455 Rio de Janeiro  epiweek  year\n",
      "Semana epidem. 1º Sintomas(s)                                     \n",
      "Semana 50                                         6       50  2021\n",
      "Semana 51                                         3       51  2021\n",
      "Semana 52                                         1       52  2021\n",
      "\n",
      "2020\n",
      "                              330455 Rio de Janeiro  epiweek  year\n",
      "Semana epidem. 1º Sintomas(s)                                     \n",
      "Semana 51                                        12       51  2020\n",
      "Semana 52                                        33       52  2020\n",
      "Semana 53                                         5       53  2020\n",
      "\n",
      "2018\n",
      "          330455 Rio de Janeiro  epiweek  year\n",
      "Semana 50                    95       50  2018\n",
      "Semana 51                    77       51  2018\n",
      "Semana 52                    96       52  2018\n",
      "\n",
      "2019\n",
      "          330455 Rio de Janeiro  epiweek  year\n",
      "Semana 50                    69       50  2019\n",
      "Semana 51                    66       51  2019\n",
      "Semana 52                    83       52  2019\n",
      "\n"
     ]
    }
   ],
   "source": [
    "PATH = 'data/cases'\n",
    "\n",
    "for i, file in enumerate(os.listdir(PATH)):\n",
    "    year = int(file.split('_')[1].replace('.csv', ''))\n",
    "    print(year)\n",
    "    \n",
    "    if year in [2017, 2022, 2021, 2018, 2019]:\n",
    "        # Read a csv file, ignore first 5 rows and stop reading at the line 50\n",
    "        df_aux = pd.read_csv(os.path.join(PATH, file), skiprows=3, nrows=52, encoding='latin1', sep=';', index_col=0)['330455 Rio de Janeiro']\n",
    "    else:\n",
    "        # Read a csv file, ignore first 3 rows and stop reading at the line 58\n",
    "        df_aux = pd.read_csv(os.path.join(PATH, file), skiprows=3, nrows=53, encoding='latin1', sep=';', index_col=0)['330455 Rio de Janeiro']\n",
    "    \n",
    "    df_aux = pd.DataFrame(df_aux)\n",
    "    df_aux['epiweek'] = df_aux.index.str.split(' ').str[1]\n",
    "    # Convert epiweek to int, if not int, remove the row and print the row\n",
    "    df_aux = df_aux[df_aux['epiweek'].apply(lambda x: x.isdigit())]\n",
    "    df_aux['epiweek'] = df_aux['epiweek'].astype(int)\n",
    "    \n",
    "    df_aux['epiweek'] = df_aux['epiweek']\n",
    "    df_aux['year'] = year\n",
    "    \n",
    "    if i == 0:\n",
    "        df = df_aux\n",
    "    else:\n",
    "        df = pd.concat([df, df_aux], axis=0)\n",
    "\n",
    "    print(df.tail(3))\n",
    "    print('')\n",
    "\n",
    "df.reset_index(drop=True, inplace=True)\n",
    "df.rename(columns={'330455 Rio de Janeiro': 'cases'}, inplace=True)\n",
    "df.sort_values(by=['year', 'epiweek'], inplace=True)"
   ]
  },
  {
   "cell_type": "code",
   "execution_count": 18,
   "metadata": {},
   "outputs": [],
   "source": [
    "df.to_csv('data/cases.csv', index=False)"
   ]
  },
  {
   "cell_type": "code",
   "execution_count": null,
   "metadata": {},
   "outputs": [],
   "source": []
  }
 ],
 "metadata": {
  "kernelspec": {
   "display_name": "nlp_violence",
   "language": "python",
   "name": "python3"
  },
  "language_info": {
   "codemirror_mode": {
    "name": "ipython",
    "version": 3
   },
   "file_extension": ".py",
   "mimetype": "text/x-python",
   "name": "python",
   "nbconvert_exporter": "python",
   "pygments_lexer": "ipython3",
   "version": "3.9.18"
  }
 },
 "nbformat": 4,
 "nbformat_minor": 2
}
