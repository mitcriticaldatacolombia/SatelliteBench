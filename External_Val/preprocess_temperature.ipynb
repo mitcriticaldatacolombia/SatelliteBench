{
  "cells": [
    {
      "cell_type": "code",
      "execution_count": 1,
      "id": "23566b92",
      "metadata": {
        "id": "23566b92"
      },
      "outputs": [],
      "source": [
        "import pandas as pd\n",
        "from datetime import timedelta\n",
        "from epiweeks import Week, Year"
      ]
    },
    {
      "cell_type": "code",
      "execution_count": 2,
      "id": "zYsgomY4xaSK",
      "metadata": {
        "id": "zYsgomY4xaSK"
      },
      "outputs": [],
      "source": [
        "# David's path\n",
        "path = 'data/Temperature/'"
      ]
    },
    {
      "cell_type": "code",
      "execution_count": 3,
      "id": "77c87f7e",
      "metadata": {},
      "outputs": [],
      "source": [
        "def get_epiweek(date):\n",
        "    week = Week.fromdate(date)\n",
        "    return week"
      ]
    },
    {
      "cell_type": "markdown",
      "id": "631d0fb5",
      "metadata": {
        "id": "631d0fb5"
      },
      "source": [
        "### Read CSV"
      ]
    },
    {
      "cell_type": "code",
      "execution_count": 4,
      "id": "b5ef16b5",
      "metadata": {
        "colab": {
          "base_uri": "https://localhost:8080/",
          "height": 419
        },
        "id": "b5ef16b5",
        "outputId": "3a2067e0-232a-4529-fd92-a568a355d655"
      },
      "outputs": [
        {
          "data": {
            "text/html": [
              "<div>\n",
              "<style scoped>\n",
              "    .dataframe tbody tr th:only-of-type {\n",
              "        vertical-align: middle;\n",
              "    }\n",
              "\n",
              "    .dataframe tbody tr th {\n",
              "        vertical-align: top;\n",
              "    }\n",
              "\n",
              "    .dataframe thead th {\n",
              "        text-align: right;\n",
              "    }\n",
              "</style>\n",
              "<table border=\"1\" class=\"dataframe\">\n",
              "  <thead>\n",
              "    <tr style=\"text-align: right;\">\n",
              "      <th></th>\n",
              "      <th>Date</th>\n",
              "      <th>temperature</th>\n",
              "    </tr>\n",
              "  </thead>\n",
              "  <tbody>\n",
              "    <tr>\n",
              "      <th>0</th>\n",
              "      <td>2015-01-01</td>\n",
              "      <td>42.239</td>\n",
              "    </tr>\n",
              "    <tr>\n",
              "      <th>1</th>\n",
              "      <td>2015-01-02</td>\n",
              "      <td>39.204</td>\n",
              "    </tr>\n",
              "    <tr>\n",
              "      <th>2</th>\n",
              "      <td>2015-01-03</td>\n",
              "      <td>NaN</td>\n",
              "    </tr>\n",
              "    <tr>\n",
              "      <th>3</th>\n",
              "      <td>2015-01-04</td>\n",
              "      <td>NaN</td>\n",
              "    </tr>\n",
              "    <tr>\n",
              "      <th>4</th>\n",
              "      <td>2015-01-05</td>\n",
              "      <td>NaN</td>\n",
              "    </tr>\n",
              "    <tr>\n",
              "      <th>...</th>\n",
              "      <td>...</td>\n",
              "      <td>...</td>\n",
              "    </tr>\n",
              "    <tr>\n",
              "      <th>2850</th>\n",
              "      <td>2022-11-11</td>\n",
              "      <td>NaN</td>\n",
              "    </tr>\n",
              "    <tr>\n",
              "      <th>2851</th>\n",
              "      <td>2022-11-12</td>\n",
              "      <td>NaN</td>\n",
              "    </tr>\n",
              "    <tr>\n",
              "      <th>2852</th>\n",
              "      <td>2022-11-13</td>\n",
              "      <td>25.200</td>\n",
              "    </tr>\n",
              "    <tr>\n",
              "      <th>2853</th>\n",
              "      <td>2022-11-14</td>\n",
              "      <td>NaN</td>\n",
              "    </tr>\n",
              "    <tr>\n",
              "      <th>2854</th>\n",
              "      <td>2022-11-15</td>\n",
              "      <td>33.250</td>\n",
              "    </tr>\n",
              "  </tbody>\n",
              "</table>\n",
              "<p>2855 rows × 2 columns</p>\n",
              "</div>"
            ],
            "text/plain": [
              "           Date  temperature\n",
              "0    2015-01-01       42.239\n",
              "1    2015-01-02       39.204\n",
              "2    2015-01-03          NaN\n",
              "3    2015-01-04          NaN\n",
              "4    2015-01-05          NaN\n",
              "...         ...          ...\n",
              "2850 2022-11-11          NaN\n",
              "2851 2022-11-12          NaN\n",
              "2852 2022-11-13       25.200\n",
              "2853 2022-11-14          NaN\n",
              "2854 2022-11-15       33.250\n",
              "\n",
              "[2855 rows x 2 columns]"
            ]
          },
          "execution_count": 4,
          "metadata": {},
          "output_type": "execute_result"
        }
      ],
      "source": [
        "weekly_temperature = pd.read_csv(path+'temperature_rio_daily.csv')\n",
        "weekly_temperature.rename(columns={'system:time_start' : 'Date', 'LST_Day_1km' : 'temperature'}, inplace=True)\n",
        "weekly_temperature['Date'] = pd.to_datetime(weekly_temperature['Date'])\n",
        "weekly_temperature"
      ]
    },
    {
      "cell_type": "markdown",
      "id": "ca96cb01",
      "metadata": {
        "id": "ca96cb01"
      },
      "source": [
        "#### Fill NaN with average of last and next value"
      ]
    },
    {
      "cell_type": "code",
      "execution_count": 5,
      "id": "68d4b0ab",
      "metadata": {
        "colab": {
          "base_uri": "https://localhost:8080/",
          "height": 419
        },
        "id": "68d4b0ab",
        "outputId": "c5cdc53d-c028-4686-c62b-a640662a9297"
      },
      "outputs": [
        {
          "data": {
            "text/html": [
              "<div>\n",
              "<style scoped>\n",
              "    .dataframe tbody tr th:only-of-type {\n",
              "        vertical-align: middle;\n",
              "    }\n",
              "\n",
              "    .dataframe tbody tr th {\n",
              "        vertical-align: top;\n",
              "    }\n",
              "\n",
              "    .dataframe thead th {\n",
              "        text-align: right;\n",
              "    }\n",
              "</style>\n",
              "<table border=\"1\" class=\"dataframe\">\n",
              "  <thead>\n",
              "    <tr style=\"text-align: right;\">\n",
              "      <th></th>\n",
              "      <th>Date</th>\n",
              "      <th>temperature</th>\n",
              "    </tr>\n",
              "  </thead>\n",
              "  <tbody>\n",
              "    <tr>\n",
              "      <th>0</th>\n",
              "      <td>2015-01-01</td>\n",
              "      <td>42.2390</td>\n",
              "    </tr>\n",
              "    <tr>\n",
              "      <th>1</th>\n",
              "      <td>2015-01-02</td>\n",
              "      <td>39.2040</td>\n",
              "    </tr>\n",
              "    <tr>\n",
              "      <th>2</th>\n",
              "      <td>2015-01-03</td>\n",
              "      <td>36.5490</td>\n",
              "    </tr>\n",
              "    <tr>\n",
              "      <th>3</th>\n",
              "      <td>2015-01-04</td>\n",
              "      <td>36.5490</td>\n",
              "    </tr>\n",
              "    <tr>\n",
              "      <th>4</th>\n",
              "      <td>2015-01-05</td>\n",
              "      <td>36.5490</td>\n",
              "    </tr>\n",
              "    <tr>\n",
              "      <th>...</th>\n",
              "      <td>...</td>\n",
              "      <td>...</td>\n",
              "    </tr>\n",
              "    <tr>\n",
              "      <th>2850</th>\n",
              "      <td>2022-11-11</td>\n",
              "      <td>28.2415</td>\n",
              "    </tr>\n",
              "    <tr>\n",
              "      <th>2851</th>\n",
              "      <td>2022-11-12</td>\n",
              "      <td>28.2415</td>\n",
              "    </tr>\n",
              "    <tr>\n",
              "      <th>2852</th>\n",
              "      <td>2022-11-13</td>\n",
              "      <td>25.2000</td>\n",
              "    </tr>\n",
              "    <tr>\n",
              "      <th>2853</th>\n",
              "      <td>2022-11-14</td>\n",
              "      <td>29.2250</td>\n",
              "    </tr>\n",
              "    <tr>\n",
              "      <th>2854</th>\n",
              "      <td>2022-11-15</td>\n",
              "      <td>33.2500</td>\n",
              "    </tr>\n",
              "  </tbody>\n",
              "</table>\n",
              "<p>2855 rows × 2 columns</p>\n",
              "</div>"
            ],
            "text/plain": [
              "           Date  temperature\n",
              "0    2015-01-01      42.2390\n",
              "1    2015-01-02      39.2040\n",
              "2    2015-01-03      36.5490\n",
              "3    2015-01-04      36.5490\n",
              "4    2015-01-05      36.5490\n",
              "...         ...          ...\n",
              "2850 2022-11-11      28.2415\n",
              "2851 2022-11-12      28.2415\n",
              "2852 2022-11-13      25.2000\n",
              "2853 2022-11-14      29.2250\n",
              "2854 2022-11-15      33.2500\n",
              "\n",
              "[2855 rows x 2 columns]"
            ]
          },
          "execution_count": 5,
          "metadata": {},
          "output_type": "execute_result"
        }
      ],
      "source": [
        "# Fill the NaN of firsth row\n",
        "weekly_temperature['ffill'] = weekly_temperature.temperature.fillna(method=\"ffill\")\n",
        "weekly_temperature['ffill'] = weekly_temperature['ffill'].fillna(method=\"backfill\")\n",
        "# Fill the NaN of last row\n",
        "weekly_temperature['backfill'] = weekly_temperature.temperature.fillna(method=\"backfill\")\n",
        "weekly_temperature['backfill'] = weekly_temperature['backfill'].fillna(method=\"ffill\")\n",
        "## Create a new temperature column with NaN as mean of last and next temperature\n",
        "weekly_temperature['temperature'] = (weekly_temperature['backfill'] + weekly_temperature['ffill'])/2\n",
        "weekly_temperature.drop(columns=['ffill', 'backfill'], inplace=True)\n",
        "weekly_temperature"
      ]
    },
    {
      "cell_type": "markdown",
      "id": "4f29c40d",
      "metadata": {},
      "source": [
        "### Calculate temperature per epi-week"
      ]
    },
    {
      "cell_type": "code",
      "execution_count": 6,
      "id": "7d4641ab",
      "metadata": {},
      "outputs": [
        {
          "data": {
            "text/html": [
              "<div>\n",
              "<style scoped>\n",
              "    .dataframe tbody tr th:only-of-type {\n",
              "        vertical-align: middle;\n",
              "    }\n",
              "\n",
              "    .dataframe tbody tr th {\n",
              "        vertical-align: top;\n",
              "    }\n",
              "\n",
              "    .dataframe thead th {\n",
              "        text-align: right;\n",
              "    }\n",
              "</style>\n",
              "<table border=\"1\" class=\"dataframe\">\n",
              "  <thead>\n",
              "    <tr style=\"text-align: right;\">\n",
              "      <th></th>\n",
              "      <th>Epiweek</th>\n",
              "      <th>temperature</th>\n",
              "    </tr>\n",
              "  </thead>\n",
              "  <tbody>\n",
              "    <tr>\n",
              "      <th>0</th>\n",
              "      <td>201453</td>\n",
              "      <td>39.330667</td>\n",
              "    </tr>\n",
              "    <tr>\n",
              "      <th>1</th>\n",
              "      <td>201501</td>\n",
              "      <td>37.142143</td>\n",
              "    </tr>\n",
              "    <tr>\n",
              "      <th>2</th>\n",
              "      <td>201502</td>\n",
              "      <td>36.971643</td>\n",
              "    </tr>\n",
              "    <tr>\n",
              "      <th>3</th>\n",
              "      <td>201503</td>\n",
              "      <td>37.902000</td>\n",
              "    </tr>\n",
              "    <tr>\n",
              "      <th>4</th>\n",
              "      <td>201504</td>\n",
              "      <td>33.811714</td>\n",
              "    </tr>\n",
              "    <tr>\n",
              "      <th>...</th>\n",
              "      <td>...</td>\n",
              "      <td>...</td>\n",
              "    </tr>\n",
              "    <tr>\n",
              "      <th>405</th>\n",
              "      <td>202241</td>\n",
              "      <td>27.580500</td>\n",
              "    </tr>\n",
              "    <tr>\n",
              "      <th>406</th>\n",
              "      <td>202243</td>\n",
              "      <td>29.708286</td>\n",
              "    </tr>\n",
              "    <tr>\n",
              "      <th>407</th>\n",
              "      <td>202244</td>\n",
              "      <td>27.855143</td>\n",
              "    </tr>\n",
              "    <tr>\n",
              "      <th>408</th>\n",
              "      <td>202245</td>\n",
              "      <td>28.147571</td>\n",
              "    </tr>\n",
              "    <tr>\n",
              "      <th>409</th>\n",
              "      <td>202246</td>\n",
              "      <td>29.225000</td>\n",
              "    </tr>\n",
              "  </tbody>\n",
              "</table>\n",
              "<p>410 rows × 2 columns</p>\n",
              "</div>"
            ],
            "text/plain": [
              "    Epiweek  temperature\n",
              "0    201453    39.330667\n",
              "1    201501    37.142143\n",
              "2    201502    36.971643\n",
              "3    201503    37.902000\n",
              "4    201504    33.811714\n",
              "..      ...          ...\n",
              "405  202241    27.580500\n",
              "406  202243    29.708286\n",
              "407  202244    27.855143\n",
              "408  202245    28.147571\n",
              "409  202246    29.225000\n",
              "\n",
              "[410 rows x 2 columns]"
            ]
          },
          "execution_count": 6,
          "metadata": {},
          "output_type": "execute_result"
        }
      ],
      "source": [
        "# Apply function to get epiweek for each date\n",
        "weekly_temperature['Epiweek'] = weekly_temperature['Date'].apply(get_epiweek)\n",
        "\n",
        "# Group by epiweek and calculate mean temperature\n",
        "mean_temp_per_epiweek = weekly_temperature.groupby('Epiweek')['temperature'].mean().reset_index()\n",
        "mean_temp_per_epiweek.sort_values(by='Epiweek', inplace=True)\n",
        "mean_temp_per_epiweek"
      ]
    },
    {
      "cell_type": "code",
      "execution_count": 8,
      "id": "cc6308eb",
      "metadata": {
        "id": "cc6308eb"
      },
      "outputs": [],
      "source": [
        "# Dataframe to CSV\n",
        "mean_temp_per_epiweek.to_csv(path+'temperature_rio.csv', index=False)"
      ]
    },
    {
      "cell_type": "code",
      "execution_count": null,
      "id": "abc83496",
      "metadata": {},
      "outputs": [],
      "source": []
    }
  ],
  "metadata": {
    "colab": {
      "provenance": []
    },
    "kernelspec": {
      "display_name": "Python 3",
      "language": "python",
      "name": "python3"
    },
    "language_info": {
      "codemirror_mode": {
        "name": "ipython",
        "version": 3
      },
      "file_extension": ".py",
      "mimetype": "text/x-python",
      "name": "python",
      "nbconvert_exporter": "python",
      "pygments_lexer": "ipython3",
      "version": "3.9.18"
    }
  },
  "nbformat": 4,
  "nbformat_minor": 5
}
